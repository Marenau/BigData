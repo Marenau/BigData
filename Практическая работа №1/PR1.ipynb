{
  "nbformat": 4,
  "nbformat_minor": 0,
  "metadata": {
    "colab": {
      "provenance": []
    },
    "kernelspec": {
      "name": "python3",
      "display_name": "Python 3"
    },
    "language_info": {
      "name": "python"
    }
  },
  "cells": [
    {
      "cell_type": "markdown",
      "source": [
        "### Задание 1\n",
        "\n",
        "> Работаю в Google Colab ♥"
      ],
      "metadata": {
        "id": "RC7q9FAqxrWt"
      }
    },
    {
      "cell_type": "markdown",
      "source": [
        "### Задание 2\n",
        "Написать программу, которая вычисляет площадь фигуры,\n",
        "параметры которой подаются на вход. Фигуры, которые подаются на вход:\n",
        "треугольник, прямоугольник, круг. Результатом работы является словарь, где\n",
        "ключ – это название фигуры, а значение – это площадь."
      ],
      "metadata": {
        "id": "CPmOExabthF8"
      }
    },
    {
      "cell_type": "code",
      "execution_count": null,
      "metadata": {
        "colab": {
          "base_uri": "https://localhost:8080/"
        },
        "id": "Yjx2DSR4rZ2s",
        "outputId": "7f7836e1-c1a0-4596-dd4f-068a0e2ec6e0"
      },
      "outputs": [
        {
          "output_type": "stream",
          "name": "stdout",
          "text": [
            "{'треугольник': 25.0, 'прямоугольник': 24, 'круг': 28.274333882308138}\n"
          ]
        }
      ],
      "source": [
        "import math\n",
        "\n",
        "def calculate_area(shape, params):\n",
        "    if shape == 'треугольник':\n",
        "        base, height = params\n",
        "        area = 0.5 * base * height\n",
        "    elif shape == 'прямоугольник':\n",
        "        length, width = params\n",
        "        area = length * width\n",
        "    elif shape == 'круг':\n",
        "        radius = params\n",
        "        area = math.pi * radius ** 2\n",
        "    else:\n",
        "        raise ValueError(\"Неизвестная фигура\")\n",
        "    return area\n",
        "\n",
        "def main():\n",
        "    shapes = {\n",
        "        'треугольник': (5, 10),\n",
        "        'прямоугольник': (4, 6),\n",
        "        'круг': (3)\n",
        "    }\n",
        "\n",
        "    areas = {}\n",
        "    for shape, params in shapes.items():\n",
        "        areas[shape] = calculate_area(shape, params)\n",
        "\n",
        "    print(areas)\n",
        "\n",
        "main()"
      ]
    },
    {
      "cell_type": "markdown",
      "source": [
        "### Задание 3\n",
        "Написать программу, которая на вход получает два числа и\n",
        "операцию, которую к ним нужно применить. Должны быть реализованы\n",
        "следующие операции: +, -, /, //, abs – модуль, pow или ** – возведение в\n",
        "степень."
      ],
      "metadata": {
        "id": "K9wTnvIOtkF3"
      }
    },
    {
      "cell_type": "code",
      "source": [
        "def calculate(num1, num2, operation):\n",
        "    if operation == '+':\n",
        "        return num1 + num2\n",
        "    elif operation == '-':\n",
        "        return num1 - num2\n",
        "    elif operation == '/':\n",
        "        if num2 == 0:\n",
        "            return \"Ошибка: деление на ноль\"\n",
        "        return num1 / num2\n",
        "    elif operation == '//':\n",
        "        if num2 == 0:\n",
        "            return \"Ошибка: деление на ноль\"\n",
        "        return num1 // num2\n",
        "    elif operation == 'abs':\n",
        "        return abs(num1)\n",
        "    elif operation == 'pow' or operation == '**':\n",
        "        return num1 ** num2\n",
        "    else:\n",
        "        return \"Ошибка: неизвестная операция\"\n",
        "\n",
        "def main():\n",
        "    num1 = float(input(\"Введите первое число: \"))\n",
        "    num2 = float(input(\"Введите второе число: \"))\n",
        "    operation = input(\"Введите операцию (+, -, /, //, abs, pow или **): \")\n",
        "\n",
        "    result = calculate(num1, num2, operation)\n",
        "    print(f\"Результат: {result}\")\n",
        "\n",
        "main()"
      ],
      "metadata": {
        "colab": {
          "base_uri": "https://localhost:8080/"
        },
        "id": "PIw2V27Sud_4",
        "outputId": "f9b2c6a9-d3d9-4b73-9879-bdebfb05fff6"
      },
      "execution_count": null,
      "outputs": [
        {
          "output_type": "stream",
          "name": "stdout",
          "text": [
            "Введите первое число: 1\n",
            "Введите второе число: 4\n",
            "Введите операцию (+, -, /, //, abs, pow или **): pow\n",
            "Результат: 1.0\n"
          ]
        }
      ]
    },
    {
      "cell_type": "markdown",
      "source": [
        "### Задание 4\n",
        "Напишите программу, которая считывает с консоли числа (по\n",
        "одному в строке) до тех пор, пока сумма введённых чисел не будет равна 0 и\n",
        "после этого выводит сумму квадратов всех считанных чисел."
      ],
      "metadata": {
        "id": "CBBASgWlueWI"
      }
    },
    {
      "cell_type": "code",
      "source": [
        "def main():\n",
        "    numbers = []\n",
        "    total_sum = 0\n",
        "\n",
        "    while True:\n",
        "        try:\n",
        "            num = float(input(\"Введите число: \"))\n",
        "            numbers.append(num)\n",
        "            total_sum += num\n",
        "\n",
        "            if total_sum == 0:\n",
        "                break\n",
        "        except ValueError:\n",
        "            print(\"Ошибка: введено некорректное значение. Пожалуйста, введите число.\")\n",
        "\n",
        "    sum_of_squares = sum(x ** 2 for x in numbers)\n",
        "    print(f\"Сумма квадратов всех считанных чисел: {sum_of_squares}\")\n",
        "\n",
        "main()"
      ],
      "metadata": {
        "colab": {
          "base_uri": "https://localhost:8080/"
        },
        "id": "bUXsv_Urtl_8",
        "outputId": "a3fe11ae-6afc-48d6-ba70-402985d6daf3"
      },
      "execution_count": null,
      "outputs": [
        {
          "output_type": "stream",
          "name": "stdout",
          "text": [
            "Введите число: 5\n",
            "Введите число: 6\n",
            "Введите число: -6\n",
            "Введите число: -5\n",
            "Сумма квадратов всех считанных чисел: 122.0\n"
          ]
        }
      ]
    },
    {
      "cell_type": "markdown",
      "source": [
        "### Задание 5\n",
        "Напишите программу, которая выводит последовательность\n",
        "чисел, длинною N, где каждое число повторяется столько раз, чему оно равно.\n",
        "На вход программе передаётся неотрицательное целое число N. Например,\n",
        "если N = 7, то программа должна вывести 1 2 2 3 3 3 4. Вывод элементов списка\n",
        "через пробел – print(*list)."
      ],
      "metadata": {
        "id": "PO4lPkFruPQy"
      }
    },
    {
      "cell_type": "code",
      "source": [
        "def generate_sequence(N):\n",
        "    sequence = []\n",
        "    current_number = 1\n",
        "    while len(sequence) < N:\n",
        "        for _ in range(current_number):\n",
        "            if len(sequence) < N:\n",
        "                sequence.append(current_number)\n",
        "        current_number += 1\n",
        "    return sequence\n",
        "\n",
        "def main():\n",
        "    N = int(input(\"Введите неотрицательное целое число N: \"))\n",
        "    if N < 0:\n",
        "        print(\"Ошибка: N должно быть неотрицательным числом.\")\n",
        "        return\n",
        "\n",
        "    sequence = generate_sequence(N)\n",
        "    print(*sequence)\n",
        "\n",
        "main()"
      ],
      "metadata": {
        "colab": {
          "base_uri": "https://localhost:8080/"
        },
        "id": "Cp9CAr4eutKn",
        "outputId": "3e55da86-014f-4dd3-a24d-8fee9d4d3289"
      },
      "execution_count": null,
      "outputs": [
        {
          "output_type": "stream",
          "name": "stdout",
          "text": [
            "Введите неотрицательное целое число N: 100\n",
            "1 2 2 3 3 3 4 4 4 4 5 5 5 5 5 6 6 6 6 6 6 7 7 7 7 7 7 7 8 8 8 8 8 8 8 8 9 9 9 9 9 9 9 9 9 10 10 10 10 10 10 10 10 10 10 11 11 11 11 11 11 11 11 11 11 11 12 12 12 12 12 12 12 12 12 12 12 12 13 13 13 13 13 13 13 13 13 13 13 13 13 14 14 14 14 14 14 14 14 14\n"
          ]
        }
      ]
    },
    {
      "cell_type": "markdown",
      "source": [
        "### Задание 6\n",
        "Даны два списка:\n",
        "А = [1, 2, 3, 4, 2, 1, 3, 4, 5, 6, 5, 4, 3, 2]\n",
        "В = [‘a’, ’b’, ’c’, ’c’, ’c’, ’b’, ’a’, ’c’, ’a’, ’a’, ’b’, ’c’, ’b’, ’a’]\n",
        "Создать словарь, в котором ключи – это содержимое списка В, а\n",
        "значения для ключей словаря – это сумма всех элементов списка А в\n",
        "соответствии с буквой, содержащийся на той же позиции в списке В.\n",
        "Пример результата программы: {‘a’ : 10, ‘b’ : 15, ‘c’ : 6}."
      ],
      "metadata": {
        "id": "QuL9KnMEu6Ex"
      }
    },
    {
      "cell_type": "code",
      "source": [
        "A = [1, 2, 3, 4, 2, 1, 3, 4, 5, 6, 5, 4, 3, 2]\n",
        "B = ['a', 'b', 'c', 'c', 'c', 'b', 'a', 'c', 'a', 'a', 'b', 'c', 'b', 'a']\n",
        "\n",
        "result = {}\n",
        "\n",
        "for a, b in zip(A, B):\n",
        "    if b in result:\n",
        "        result[b] += a\n",
        "    else:\n",
        "        result[b] = a\n",
        "\n",
        "print(result)"
      ],
      "metadata": {
        "colab": {
          "base_uri": "https://localhost:8080/"
        },
        "id": "2lXMwKFyu8rX",
        "outputId": "5ab3abcb-2b45-4daa-fbfe-0ebd3a9203a6"
      },
      "execution_count": null,
      "outputs": [
        {
          "output_type": "stream",
          "name": "stdout",
          "text": [
            "{'a': 17, 'b': 11, 'c': 17}\n"
          ]
        }
      ]
    },
    {
      "cell_type": "markdown",
      "source": [
        "### Задание 7\n",
        "Скачать и загрузить данные о стоимости домов в калифорнии,\n",
        "используя библиотеку sklearn."
      ],
      "metadata": {
        "id": "iROWtTKCvP-0"
      }
    },
    {
      "cell_type": "code",
      "source": [
        "from sklearn.datasets import fetch_california_housing\n",
        "\n",
        "data = fetch_california_housing(as_frame=True)"
      ],
      "metadata": {
        "id": "oWk0NH1TvQ8W"
      },
      "execution_count": null,
      "outputs": []
    },
    {
      "cell_type": "markdown",
      "source": [
        "### Задание 8\n",
        "Использовать метод info()."
      ],
      "metadata": {
        "id": "oo3ZLKyhv_uN"
      }
    },
    {
      "cell_type": "code",
      "source": [
        "import pandas\n",
        "\n",
        "_data = pandas.DataFrame(data.data, columns=data.feature_names)\n",
        "_data['Target'] = data.target\n",
        "\n",
        "_data.info()"
      ],
      "metadata": {
        "colab": {
          "base_uri": "https://localhost:8080/"
        },
        "id": "xMUchUF-wBse",
        "outputId": "68f1dddd-a336-4fb9-dbb5-9787ce85c8d5"
      },
      "execution_count": null,
      "outputs": [
        {
          "output_type": "stream",
          "name": "stdout",
          "text": [
            "<class 'pandas.core.frame.DataFrame'>\n",
            "RangeIndex: 20640 entries, 0 to 20639\n",
            "Data columns (total 9 columns):\n",
            " #   Column      Non-Null Count  Dtype  \n",
            "---  ------      --------------  -----  \n",
            " 0   MedInc      20640 non-null  float64\n",
            " 1   HouseAge    20640 non-null  float64\n",
            " 2   AveRooms    20640 non-null  float64\n",
            " 3   AveBedrms   20640 non-null  float64\n",
            " 4   Population  20640 non-null  float64\n",
            " 5   AveOccup    20640 non-null  float64\n",
            " 6   Latitude    20640 non-null  float64\n",
            " 7   Longitude   20640 non-null  float64\n",
            " 8   Target      20640 non-null  float64\n",
            "dtypes: float64(9)\n",
            "memory usage: 1.4 MB\n"
          ]
        }
      ]
    },
    {
      "cell_type": "markdown",
      "source": [
        "### Задание 9\n",
        "Узнать, есть ли пропущенные значения, используя isna().sum()."
      ],
      "metadata": {
        "id": "NkPu3Q0fwby4"
      }
    },
    {
      "cell_type": "code",
      "source": [
        "missing_values = _data.isna().sum()\n",
        "print(missing_values)"
      ],
      "metadata": {
        "colab": {
          "base_uri": "https://localhost:8080/"
        },
        "id": "VaFhH9isw-EI",
        "outputId": "1a906f82-c967-4816-eea1-9cc7b4e4306c"
      },
      "execution_count": null,
      "outputs": [
        {
          "output_type": "stream",
          "name": "stdout",
          "text": [
            "MedInc        0\n",
            "HouseAge      0\n",
            "AveRooms      0\n",
            "AveBedrms     0\n",
            "Population    0\n",
            "AveOccup      0\n",
            "Latitude      0\n",
            "Longitude     0\n",
            "Target        0\n",
            "dtype: int64\n"
          ]
        }
      ]
    },
    {
      "cell_type": "markdown",
      "source": [
        "### Задание 10\n",
        "Вывести записи, где средний возраст домов в районе более 50 лет и\n",
        "население более 2500 человек, используя метод loc()."
      ],
      "metadata": {
        "id": "89ig1vfIxSaa"
      }
    },
    {
      "cell_type": "code",
      "source": [
        "filtered_data = _data.loc[(_data['HouseAge'] > 50) & (_data['Population'] > 2500)]\n",
        "print(filtered_data)"
      ],
      "metadata": {
        "colab": {
          "base_uri": "https://localhost:8080/"
        },
        "id": "SiioKaPzyKLC",
        "outputId": "955247bc-cd56-4395-88d0-919a93e050ab"
      },
      "execution_count": null,
      "outputs": [
        {
          "output_type": "stream",
          "name": "stdout",
          "text": [
            "       MedInc  HouseAge  AveRooms  AveBedrms  Population    AveOccup  \\\n",
            "460    1.4012      52.0  3.105714   1.060000      3337.0    9.534286   \n",
            "4131   3.5349      52.0  4.646119   1.047945      2589.0    5.910959   \n",
            "4440   2.6806      52.0  4.806283   1.057592      3062.0    4.007853   \n",
            "5986   1.8750      52.0  4.500000   1.206349      2688.0   21.333333   \n",
            "7369   3.1901      52.0  4.730942   1.017937      3731.0    4.182735   \n",
            "8227   2.3305      52.0  3.488860   1.170380      3018.0    3.955439   \n",
            "13034  6.1359      52.0  8.275862   1.517241      6675.0  230.172414   \n",
            "15634  1.8295      52.0  2.628169   1.053521      2957.0    4.164789   \n",
            "15652  0.9000      52.0  2.237474   1.053535      3260.0    2.237474   \n",
            "15657  2.5166      52.0  2.839075   1.184049      3436.0    1.621520   \n",
            "15659  1.7240      52.0  2.278566   1.082348      4518.0    1.780142   \n",
            "15795  2.5755      52.0  3.402576   1.058776      2619.0    2.108696   \n",
            "15868  2.8135      52.0  4.584329   1.041169      2987.0    3.966799   \n",
            "\n",
            "       Latitude  Longitude   Target  \n",
            "460       37.87    -122.26  1.75000  \n",
            "4131      34.13    -118.20  1.93600  \n",
            "4440      34.08    -118.21  1.53000  \n",
            "5986      34.10    -117.71  2.12500  \n",
            "7369      33.97    -118.21  1.67600  \n",
            "8227      33.78    -118.20  1.62500  \n",
            "13034     38.69    -121.15  2.25000  \n",
            "15634     37.80    -122.41  2.43800  \n",
            "15652     37.80    -122.41  5.00001  \n",
            "15657     37.79    -122.41  2.75000  \n",
            "15659     37.79    -122.41  2.25000  \n",
            "15795     37.77    -122.42  3.25000  \n",
            "15868     37.76    -122.41  2.60300  \n"
          ]
        }
      ]
    },
    {
      "cell_type": "markdown",
      "source": [
        "### Задание 11\n",
        "Узнать максимальное и минимальное значения медианной\n",
        "стоимости дома."
      ],
      "metadata": {
        "id": "YmZyZOGNym46"
      }
    },
    {
      "cell_type": "code",
      "source": [
        "max = _data['Target'].max()\n",
        "min = _data['Target'].min()\n",
        "print(max, min)"
      ],
      "metadata": {
        "colab": {
          "base_uri": "https://localhost:8080/"
        },
        "id": "I7zyKLv5yr5G",
        "outputId": "f321a4ea-fadd-472e-bdae-92b3c11765cb"
      },
      "execution_count": null,
      "outputs": [
        {
          "output_type": "stream",
          "name": "stdout",
          "text": [
            "5.00001 0.14999\n"
          ]
        }
      ]
    },
    {
      "cell_type": "markdown",
      "source": [
        "### Задание 12\n",
        "Используя метод apply(), вывести на экран название признака и его\n",
        "среднее значение."
      ],
      "metadata": {
        "id": "qqRM_xfHzCWt"
      }
    },
    {
      "cell_type": "code",
      "source": [
        "mean_values = _data.apply(lambda x: x.mean())\n",
        "for feature, mean_value in mean_values.items():\n",
        "    print(f\"Признак: {feature}, Среднее значение: {mean_value}\")"
      ],
      "metadata": {
        "colab": {
          "base_uri": "https://localhost:8080/"
        },
        "id": "nitvHdgAzBC7",
        "outputId": "1f596233-180d-4492-a844-01fc5a54ae91"
      },
      "execution_count": null,
      "outputs": [
        {
          "output_type": "stream",
          "name": "stdout",
          "text": [
            "Признак: MedInc, Среднее значение: 3.8706710029069766\n",
            "Признак: HouseAge, Среднее значение: 28.639486434108527\n",
            "Признак: AveRooms, Среднее значение: 5.428999742190376\n",
            "Признак: AveBedrms, Среднее значение: 1.096675149606208\n",
            "Признак: Population, Среднее значение: 1425.4767441860465\n",
            "Признак: AveOccup, Среднее значение: 3.0706551594363742\n",
            "Признак: Latitude, Среднее значение: 35.63186143410853\n",
            "Признак: Longitude, Среднее значение: -119.56970445736432\n",
            "Признак: Target, Среднее значение: 2.068558169089147\n"
          ]
        }
      ]
    },
    {
      "cell_type": "markdown",
      "source": [
        "### Задание 1.*\n",
        "Дан текст на английском языке. Необходимо закодировать его с\n",
        "помощью азбуки Морзе, где каждой букве соответствует\n",
        "последовательность точек и тире. Например, буква «g» превратится в\n",
        "строку «--.». В переменной morze для удобства хранится словарь\n",
        "соответствия латинских букв коду Морзе.\n",
        "morze = {'a': '.-', 'b': '-…', 'c': '-.-.', 'd': '-..',\n",
        " 'e': '.', 'f': '..-.', 'g': '--.', 'h': '….',\n",
        " 'i': '..', 'j': '.---', 'k': '-.-', 'l': '.-..',\n",
        " 'm': '--', 'n': '-.', 'o': '---', 'p': '.--.',\n",
        " 'q': '--.-', 'r': '.-.', 's': '…', 't': '-',\n",
        " 'u': '..-', 'v': '…-', 'w': '.--', 'x': '-..-',\n",
        " 'y': '-.--', 'z': '--..'}\n",
        "На входе: В одной строке вам дан текст, который состоит из латинских\n",
        "букв и пробелов.\n",
        "На выходе:\n",
        "Выведите каждое слово исходного текста, закодированное азбукой\n",
        "Морзе. Количество строк в ответе должно совпадать с количеством слов\n",
        "в исходном тексте. Между закодированными буквами ставится ровно\n",
        "один пробел. Например, слово «Help» превратится в «.... . .-.. .--.».\n",
        "Строчные и заглавные буквы кодируются одинаково.\n",
        "Например:\n",
        "Ignition sequence start\n",
        "Перевод\n",
        ".. --. -. .. - .. --- -.\n",
        "… . --.- ..- . -. -.-. .\n",
        "… - .- .-. -"
      ],
      "metadata": {
        "id": "YJeRVVcGzYCz"
      }
    },
    {
      "cell_type": "code",
      "source": [
        "# Словарь соответствия латинских букв коду Морзе\n",
        "morze = {\n",
        "    'a': '.-', 'b': '-...', 'c': '-.-.', 'd': '-..',\n",
        "    'e': '.', 'f': '..-.', 'g': '--.', 'h': '....',\n",
        "    'i': '..', 'j': '.---', 'k': '-.-', 'l': '.-..',\n",
        "    'm': '--', 'n': '-.', 'o': '---', 'p': '.--.',\n",
        "    'q': '--.-', 'r': '.-.', 's': '...', 't': '-',\n",
        "    'u': '..-', 'v': '...-', 'w': '.--', 'x': '-..-',\n",
        "    'y': '-.--', 'z': '--..'\n",
        "}\n",
        "\n",
        "def encode_to_morse(text):\n",
        "    encoded_text = []\n",
        "    for char in text.lower():\n",
        "        if char in morze:\n",
        "            encoded_text.append(morze[char])\n",
        "        elif char == ' ':\n",
        "            encoded_text.append('\\n')\n",
        "    return ''.join(encoded_text)\n",
        "\n",
        "input_text = str(input(\"Введите текст: \"))\n",
        "encoded_text = encode_to_morse(input_text)\n",
        "print(f\"Закодированный текст:\\n{encoded_text}\")"
      ],
      "metadata": {
        "colab": {
          "base_uri": "https://localhost:8080/"
        },
        "id": "v6dkADr2zexW",
        "outputId": "c8d91161-853c-4bda-c077-d8a2b9056840"
      },
      "execution_count": null,
      "outputs": [
        {
          "output_type": "stream",
          "name": "stdout",
          "text": [
            "Введите текст: Ignition sequence start\n",
            "Закодированный текст:\n",
            "..--.-...-..----.\n",
            "....--.-..-.-.-.-..\n",
            "...-.-.-.-\n"
          ]
        }
      ]
    },
    {
      "cell_type": "markdown",
      "source": [
        "### Задание 2.*\n",
        "В некотором городе открывается новая служба по доставке электронных\n",
        "писем. Необходимо наладить систему регистрации новых\n",
        "пользователей.\n",
        "Регистрация должна работать следующим образом: если новый\n",
        "пользователь хочет зарегистрироваться на сайте, то он должен послать\n",
        "системе запрос name со своим именем. Система должна определить,\n",
        "существует ли уже такое имя в базе данных. Если такого имени не\n",
        "существует, то оно заносится в базу данных системы и пользователю\n",
        "возвращается ответ \"ОК\", подтверждающий успешную регистрацию. А\n",
        "если пользователь с таким именем уже существует, то система должна\n",
        "сформировать новое имя и выдать его пользователю в качестве\n",
        "подсказки, при этом сама подсказка также добавляется в базу данных.\n",
        "Новое имя формируется следующим образом: к name последовательно\n",
        "приписываются числа, начиная с 1 (name1, name2 и так далее), и среди\n",
        "них находят такое наименьшее i, что namei еще не содержится в системе.\n",
        "Входные данные\n",
        "В первой строке входных данных задано число n (1 ≤ n ≤ 100000).\n",
        "Следующие n строк содержат запросы к системе. Каждый запрос\n",
        "представляет собой непустую строку длиной не более 32 символов,\n",
        "состоящую только из строчных букв латинского алфавита.\n",
        "Выходные данные\n",
        "В выходных данных должно содержаться n строк – ответы системы на\n",
        "запросы: \"OK\" в случае успешной регистрации, или подсказка с новым\n",
        "именем, если запрашиваемое уже занято.\n",
        "\n",
        "#### Данные для проверки:\n",
        "Вход:\n",
        "\n",
        "3\n",
        "\n",
        "b\n",
        "\n",
        "b\n",
        "\n",
        "b\n",
        "\n",
        "Выход:\n",
        "\n",
        "OK\n",
        "\n",
        "b1\n",
        "\n",
        "b2\n",
        "\n",
        "Вход:\n",
        "\n",
        "10\n",
        "\n",
        "bhnqaptmp\n",
        "\n",
        "bhnqaptmp\n",
        "\n",
        "bhnqaptmp\n",
        "\n",
        "bhnqaptmp\n",
        "\n",
        "bhnqaptmp\n",
        "\n",
        "bhnqaptmp\n",
        "\n",
        "bhnqaptmp\n",
        "\n",
        "bhnqaptmp\n",
        "\n",
        "bhnqaptmp\n",
        "\n",
        "bhnqaptmp\n",
        "\n",
        "Выход:\n",
        "\n",
        "OK\n",
        "\n",
        "bhnqaptmp1\n",
        "\n",
        "bhnqaptmp2\n",
        "\n",
        "bhnqaptmp3\n",
        "\n",
        "bhnqaptmp4\n",
        "\n",
        "bhnqaptmp5\n",
        "\n",
        "bhnqaptmp6\n",
        "\n",
        "bhnqaptmp7\n",
        "\n",
        "bhnqaptmp8\n",
        "\n",
        "bhnqaptmp9\n",
        "\n",
        "Вход:\n",
        "\n",
        "10\n",
        "\n",
        "fpqhfouqdldravpjttarh\n",
        "\n",
        "fpqhfouqdldravpjttarh\n",
        "\n",
        "fpqhfouqdldravpjttarh\n",
        "\n",
        "fpqhfouqdldravpjttarh\n",
        "\n",
        "fpqhfouqdldravpjttarh\n",
        "\n",
        "fpqhfouqdldravpjttarh\n",
        "\n",
        "jmvlplnrmba\n",
        "\n",
        "fpqhfouqdldravpjttarh\n",
        "\n",
        "jmvlplnrmba\n",
        "\n",
        "fpqhfouqdldravpjttarh\n",
        "\n",
        "Выход:\n",
        "\n",
        "OK\n",
        "\n",
        "fpqhfouqdldravpjttarh1\n",
        "\n",
        "fpqhfouqdldravpjttarh2\n",
        "\n",
        "fpqhfouqdldravpjttarh3\n",
        "\n",
        "fpqhfouqdldravpjttarh4\n",
        "\n",
        "fpqhfouqdldravpjttarh5\n",
        "\n",
        "OK\n",
        "\n",
        "fpqhfouqdldravpjttarh6\n",
        "\n",
        "jmvlplnrmba1\n",
        "\n",
        "fpqhfouqdldravpjttarh7"
      ],
      "metadata": {
        "id": "dV6YURdd0RnD"
      }
    },
    {
      "cell_type": "code",
      "source": [
        "def register_user(user_database, request):\n",
        "    if request not in user_database:\n",
        "        user_database[request] = 1\n",
        "        return \"OK\"\n",
        "    else:\n",
        "        count = user_database[request]\n",
        "        new_name = f\"{request}{count}\"\n",
        "        while new_name in user_database:\n",
        "            count += 1\n",
        "            new_name = f\"{request}{count}\"\n",
        "        user_database[new_name] = 1\n",
        "        user_database[request] = count + 1\n",
        "        return new_name\n",
        "\n",
        "def main():\n",
        "    user_database = {}\n",
        "    n = int(input(\"Введите количество запросов: \"))\n",
        "\n",
        "    for _ in range(n):\n",
        "        request = input(\"Введите имя для регистрации: \")\n",
        "        result = register_user(user_database, request)\n",
        "        print(result)\n",
        "\n",
        "main()"
      ],
      "metadata": {
        "colab": {
          "base_uri": "https://localhost:8080/"
        },
        "id": "vDOPMrCF0f9c",
        "outputId": "086a7ec8-8bc8-48e0-90e0-4574769079f8"
      },
      "execution_count": null,
      "outputs": [
        {
          "output_type": "stream",
          "name": "stdout",
          "text": [
            "Введите количество запросов: 3\n",
            "Введите имя для регистрации: b\n",
            "OK\n",
            "Введите имя для регистрации: b\n",
            "b1\n",
            "Введите имя для регистрации: b\n",
            "b2\n"
          ]
        }
      ]
    },
    {
      "cell_type": "markdown",
      "source": [
        "### Задание 3.*\n",
        "Необходимо создать программу обработки запросов пользователей к\n",
        "файловой системе компьютера. Над каждым файлом можно производить\n",
        "следующие действия: запись – w (\"write\"), чтение – r (\"read\"), запуск – x\n",
        "(\"execute\").\n",
        "Входные данные\n",
        "На вход программе подаются следующие параметры: число n –\n",
        "количество файлов в файловой системе. В следующих n строках\n",
        "содержится информация с именами файлов и допустимыми действиями\n",
        "(w, x, r), разделенных пробелами. Далее идет число m – количество\n",
        "запросов к файлам вида «операция файл» (обозначение операции:\n",
        "\"write\", \"read\", \"execute\").\n",
        "Выходные данные\n",
        "Для каждого допустимого запроса программа должна возвращать OK,\n",
        "для недопустимого – Access denied.\n",
        "\n",
        "### Данные для проверки:\n",
        "Вход:\n",
        "\n",
        "python.exe x\n",
        "\n",
        "book.txt r w\n",
        "\n",
        "notebook.exe r w x\n",
        "\n",
        "5\n",
        "\n",
        "read python.exe\n",
        "\n",
        "read book.txt\n",
        "\n",
        "write notebook.exe\n",
        "\n",
        "execute notebook.exe\n",
        "\n",
        "write book.txt\n",
        "\n",
        "Вывод:\n",
        "\n",
        "Access denied\n",
        "\n",
        "OK\n",
        "\n",
        "OK\n",
        "\n",
        "OK\n",
        "\n",
        "OK\n",
        "\n",
        "Вход:\n",
        "\n",
        "root.html r w x\n",
        "\n",
        "main.py x\n",
        "\n",
        "login.txt w r\n",
        "\n",
        "4\n",
        "\n",
        "read root.html\n",
        "\n",
        "write main.py\n",
        "\n",
        "execute main.py\n",
        "\n",
        "execute login.txt\n",
        "\n",
        "Вывод:\n",
        "\n",
        "OK\n",
        "\n",
        "Access denied\n",
        "\n",
        "OK\n",
        "\n",
        "Access denied\n",
        "\n",
        "Вход:\n",
        "\n",
        "2\n",
        "\n",
        "1.txt\n",
        "\n",
        "2.txt\n",
        "\n",
        "2\n",
        "\n",
        "write 1.txt\n",
        "\n",
        "execute 2.txt\n",
        "\n",
        "Выход:\n",
        "\n",
        "Access denied\n",
        "\n",
        "Access denied"
      ],
      "metadata": {
        "id": "E-nc-Bqq3k9G"
      }
    },
    {
      "cell_type": "code",
      "source": [
        "def process_request(file_info, request, operation_map):\n",
        "    operation, file = request.split()\n",
        "    if file in file_info and operation_map[operation] in file_info[file]:\n",
        "        return \"OK\"\n",
        "    else:\n",
        "        return \"Access denied\"\n",
        "\n",
        "def main():\n",
        "    operation_map = {\n",
        "        \"execute\": \"x\",\n",
        "        \"read\": \"r\",\n",
        "        \"write\": \"w\"\n",
        "    }\n",
        "\n",
        "    n = int(input(\"Введите количество файлов: \"))\n",
        "    file_info = {}\n",
        "\n",
        "    for _ in range(n):\n",
        "        file_data = input(\"Введите имя файла и допустимые действия: \").split()\n",
        "        file_name = file_data[0]\n",
        "        actions = set(file_data[1:])\n",
        "        file_info[file_name] = actions\n",
        "\n",
        "    m = int(input(\"Введите количество запросов: \"))\n",
        "\n",
        "    for _ in range(m):\n",
        "        request = input(\"Введите запрос (операция файл): \")\n",
        "        result = process_request(file_info, request, operation_map)\n",
        "        print(result)\n",
        "\n",
        "main()"
      ],
      "metadata": {
        "colab": {
          "base_uri": "https://localhost:8080/"
        },
        "id": "O1u4g9AM4PAw",
        "outputId": "ab2869ca-47c7-43fe-a896-48f89beb8100"
      },
      "execution_count": null,
      "outputs": [
        {
          "output_type": "stream",
          "name": "stdout",
          "text": [
            "Введите количество файлов: 3\n",
            "Введите имя файла и допустимые действия: python.exe x\n",
            "Введите имя файла и допустимые действия: book.txt r w\n",
            "Введите имя файла и допустимые действия: notebook.exe r w x\n",
            "Введите количество запросов: 5\n",
            "Введите запрос (операция файл): read python.exe\n",
            "Access denied\n",
            "Введите запрос (операция файл): read book.txt\n",
            "OK\n",
            "Введите запрос (операция файл): write notebook.exe\n",
            "OK\n",
            "Введите запрос (операция файл): execute notebook.exe\n",
            "OK\n",
            "Введите запрос (операция файл): write book.txt\n",
            "OK\n"
          ]
        }
      ]
    }
  ]
}